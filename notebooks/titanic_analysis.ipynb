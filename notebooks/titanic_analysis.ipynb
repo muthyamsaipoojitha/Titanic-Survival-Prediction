{
 "cells": [
  {
   "cell_type": "code",
   "execution_count": 4,
   "id": "de41d5e8-fdb0-4d98-a65f-2db8887fc72a",
   "metadata": {},
   "outputs": [
    {
     "name": "stdout",
     "output_type": "stream",
     "text": [
      "Accuracy: 1.0\n",
      "Precision: 1.0\n",
      "Recall: 1.0\n",
      "F1 Score: 1.0\n",
      "Confusion Matrix:\n",
      " [[50  0]\n",
      " [ 0 34]]\n",
      "Cross-validation Accuracy: 1.0\n"
     ]
    }
   ],
   "source": [
    "# Step 1: Import necessary libraries\n",
    "import pandas as pd\n",
    "import numpy as np\n",
    "from sklearn.model_selection import train_test_split, cross_val_score\n",
    "from sklearn.preprocessing import StandardScaler, OneHotEncoder\n",
    "from sklearn.compose import ColumnTransformer\n",
    "from sklearn.pipeline import Pipeline\n",
    "from sklearn.ensemble import RandomForestClassifier\n",
    "from sklearn.metrics import accuracy_score, precision_score, recall_score, f1_score, confusion_matrix\n",
    "\n",
    "# Step 2: Load the Titanic dataset from the specified path\n",
    "file_path = r'C:\\Users\\saira\\Downloads\\Titanic-Survival-Prediction\\data\\tested.csv'\n",
    "data = pd.read_csv(file_path)\n",
    "\n",
    "# Step 3: Preprocess the data\n",
    "# Handle missing values\n",
    "data['Age'] = data['Age'].fillna(data['Age'].median())\n",
    "data['Embarked'] = data['Embarked'].fillna(data['Embarked'].mode()[0])\n",
    "data['Fare'] = data['Fare'].fillna(data['Fare'].median())\n",
    "\n",
    "# Drop columns that are not useful for prediction\n",
    "data.drop(['Name', 'Ticket', 'Cabin'], axis=1, inplace=True)\n",
    "\n",
    "# Step 4: Encode categorical variables\n",
    "X = data.drop('Survived', axis=1)\n",
    "y = data['Survived']\n",
    "\n",
    "# Define the preprocessing steps\n",
    "numerical_features = ['Age', 'Fare']\n",
    "categorical_features = ['Sex', 'Pclass', 'Embarked']\n",
    "\n",
    "# Preprocessing for numerical data (normalize)\n",
    "numerical_transformer = StandardScaler()\n",
    "\n",
    "# Preprocessing for categorical data (one-hot encode)\n",
    "categorical_transformer = OneHotEncoder(drop='first')\n",
    "\n",
    "# Bundle preprocessing for numerical and categorical data\n",
    "preprocessor = ColumnTransformer(\n",
    "    transformers=[\n",
    "        ('num', numerical_transformer, numerical_features),\n",
    "        ('cat', categorical_transformer, categorical_features)\n",
    "    ])\n",
    "\n",
    "# Step 5: Build the model pipeline\n",
    "model = RandomForestClassifier(n_estimators=100, random_state=42)\n",
    "pipeline = Pipeline(steps=[('preprocessor', preprocessor),\n",
    "                           ('model', model)])\n",
    "\n",
    "# Step 6: Split the dataset into training and test sets\n",
    "X_train, X_test, y_train, y_test = train_test_split(X, y, test_size=0.2, random_state=42)\n",
    "\n",
    "# Step 7: Train the model\n",
    "pipeline.fit(X_train, y_train)\n",
    "\n",
    "# Step 8: Evaluate the model\n",
    "y_pred = pipeline.predict(X_test)\n",
    "\n",
    "# Print out the evaluation metrics\n",
    "print('Accuracy:', accuracy_score(y_test, y_pred))\n",
    "print('Precision:', precision_score(y_test, y_pred))\n",
    "print('Recall:', recall_score(y_test, y_pred))\n",
    "print('F1 Score:', f1_score(y_test, y_pred))\n",
    "print('Confusion Matrix:\\n', confusion_matrix(y_test, y_pred))\n",
    "\n",
    "# Optionally, use cross-validation to get a better estimate\n",
    "cv_scores = cross_val_score(pipeline, X, y, cv=5)\n",
    "print('Cross-validation Accuracy:', cv_scores.mean())\n"
   ]
  },
  {
   "cell_type": "code",
   "execution_count": null,
   "id": "a12dd61b-c254-41a1-a011-53d0a7a129d5",
   "metadata": {},
   "outputs": [],
   "source": []
  }
 ],
 "metadata": {
  "kernelspec": {
   "display_name": "Python 3 (ipykernel)",
   "language": "python",
   "name": "python3"
  },
  "language_info": {
   "codemirror_mode": {
    "name": "ipython",
    "version": 3
   },
   "file_extension": ".py",
   "mimetype": "text/x-python",
   "name": "python",
   "nbconvert_exporter": "python",
   "pygments_lexer": "ipython3",
   "version": "3.12.7"
  }
 },
 "nbformat": 4,
 "nbformat_minor": 5
}
